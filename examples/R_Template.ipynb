{
 "cells": [
  {
   "cell_type": "markdown",
   "metadata": {},
   "source": [
    "# R Template\n",
    "\n",
    "This notebook is a template for SolveBio R examples."
   ]
  },
  {
   "cell_type": "markdown",
   "metadata": {},
   "source": [
    "## Install and Load Packages"
   ]
  },
  {
   "cell_type": "code",
   "execution_count": null,
   "metadata": {},
   "outputs": [],
   "source": [
    "packages = c(\"solvebio\")\n",
    "\n",
    "install_if_missing = function(p) {\n",
    "  if (p %in% rownames(installed.packages()) == FALSE) {\n",
    "    message(paste0(\"Installing \", p, \"...\"))\n",
    "    invisible(install.packages(p, repos = 'http://cran.us.r-project.org', dependencies = TRUE))\n",
    "  }\n",
    "}\n",
    "\n",
    "# Install\n",
    "message(\"Installing missing packages...\")\n",
    "invisible(sapply(packages, install_if_missing))\n",
    "message(\"Done installing packages!\")\n",
    "\n",
    "# Load\n",
    "message(\"Loading packages...\")\n",
    "invisible(lapply(packages, require, character.only = TRUE))\n",
    "message(\"Done loading packages!\")"
   ]
  },
  {
   "cell_type": "markdown",
   "metadata": {},
   "source": [
    "## Log-in to SolveBio\n",
    "\n",
    "You'll need your SolveBio API key to run this notebook. You can get your API key from your [Security Settings](https://my.solvebio.com/settings/security)."
   ]
  },
  {
   "cell_type": "code",
   "execution_count": null,
   "metadata": {},
   "outputs": [],
   "source": [
    "solvebio::login(\"Your API key here\")"
   ]
  },
  {
   "cell_type": "markdown",
   "metadata": {},
   "source": [
    "## Example: Get the top genes in ClinVar"
   ]
  },
  {
   "cell_type": "code",
   "execution_count": 89,
   "metadata": {},
   "outputs": [
    {
     "data": {
      "image/png": "[encoded data removed]",
      "text/plain": [
       "Plot with title “Top 10 genes in ClinVar”"
      ]
     },
     "metadata": {},
     "output_type": "display_data"
    }
   ],
   "source": [
    "clinvar <- Dataset.get_by_full_path(\"solveBio:public:/ClinVar/3.7.4-2017-01-30/Combined-GRCh37\")\n",
    "facets <- Dataset.facets(id = ClinVar$id, facets = list(\"gene_symbol\"))\n",
    "\n",
    "# Convert the facets response into a dataframe, ensure count is numeric.\n",
    "gene_symbols <- as.data.frame(facets$gene_symbol, stringsAsFactors = FALSE)\n",
    "names(gene_symbols) <- c(\"gene\", \"count\")\n",
    "gene_symbols$count <- as.numeric(gene_symbols$count)\n",
    "\n",
    "# Plot the counts\n",
    "barplot(gene_symbols$count, names.arg = gene_symbols$gene,\n",
    "        main = \"Top 10 genes in ClinVar\", xlab = \"Gene Symbol\", cex.names = 0.5)"
   ]
  }
 ],
 "metadata": {
  "kernelspec": {
   "display_name": "R",
   "language": "R",
   "name": "ir"
  },
  "language_info": {
   "codemirror_mode": "r",
   "file_extension": ".r",
   "mimetype": "text/x-r-source",
   "name": "R",
   "pygments_lexer": "r",
   "version": "3.3.2"
  }
 },
 "nbformat": 4,
 "nbformat_minor": 2
}
